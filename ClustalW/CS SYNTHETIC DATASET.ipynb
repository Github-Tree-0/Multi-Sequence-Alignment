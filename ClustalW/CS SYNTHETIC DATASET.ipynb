{
 "cells": [
  {
   "cell_type": "code",
   "execution_count": 1,
   "id": "579b5f76",
   "metadata": {},
   "outputs": [
    {
     "name": "stdout",
     "output_type": "stream",
     "text": [
      "Requirement already satisfied: Faker in c:\\users\\rak09\\anaconda3\\envs\\dataviz\\lib\\site-packages (18.13.0)\n",
      "Requirement already satisfied: python-dateutil>=2.4 in c:\\users\\rak09\\anaconda3\\envs\\dataviz\\lib\\site-packages (from Faker) (2.8.2)\n",
      "Requirement already satisfied: typing-extensions>=3.10.0.1 in c:\\users\\rak09\\anaconda3\\envs\\dataviz\\lib\\site-packages (from Faker) (4.7.1)\n",
      "Requirement already satisfied: six>=1.5 in c:\\users\\rak09\\anaconda3\\envs\\dataviz\\lib\\site-packages (from python-dateutil>=2.4->Faker) (1.16.0)\n",
      "Sequence 1: SKHSDQWFAV\n",
      "Sequence 2: TQPFMVNAGM\n",
      "Sequence 3: LDFHMSMAIF\n",
      "Sequence 4: CCGQQPMWPF\n",
      "Sequence 5: MDMSDKACCA\n",
      "Sequence 6: WNQCCLRAVR\n",
      "Sequence 7: WFTCCVTFQY\n",
      "Sequence 8: PYTDCMSWFG\n",
      "Sequence 9: CGAVCALGST\n",
      "Sequence 10: NRWISCMPGK\n"
     ]
    }
   ],
   "source": [
    "!pip install Faker\n",
    "\n",
    "from faker import Faker\n",
    "\n",
    "fake = Faker()\n",
    "\n",
    "def generate_synthetic_sequence(length):\n",
    "    \"\"\"\n",
    "    Generate a synthetic protein sequence of a specified length using the Faker library.\n",
    "\n",
    "    Parameters:\n",
    "    - length: The length of the synthetic sequence (default is 50).\n",
    "\n",
    "    Returns:\n",
    "    A synthetic protein sequence as a string.\n",
    "    \"\"\"\n",
    "    synthetic_sequence = ''.join([fake.random_element(\"ACDEFGHIKLMNPQRSTVWY\") for _ in range(length)])\n",
    "    return synthetic_sequence\n",
    "\n",
    "def generate_synthetic_dataset(num_sequences, sequence_length):\n",
    "    \"\"\"\n",
    "    Generate a synthetic dataset of protein sequences.\n",
    "\n",
    "    Parameters:\n",
    "    - num_sequences: The number of synthetic sequences in the dataset (default is 100).\n",
    "    - sequence_length: The length of each synthetic sequence (default is 50).\n",
    "\n",
    "    Returns:\n",
    "    A list containing synthetic protein sequences.\n",
    "    \"\"\"\n",
    "    synthetic_dataset = [generate_synthetic_sequence(sequence_length) for _ in range(num_sequences)]\n",
    "    return synthetic_dataset\n",
    "\n",
    "# Example usage:\n",
    "num_sequences = 10\n",
    "sequence_length = 10\n",
    "\n",
    "synthetic_dataset = generate_synthetic_dataset(num_sequences, sequence_length)\n",
    "\n",
    "# Print the synthetic dataset\n",
    "for i, sequence in enumerate(synthetic_dataset):\n",
    "    print(f'Sequence {i+1}: {sequence}')"
   ]
  },
  {
   "cell_type": "code",
   "execution_count": null,
   "id": "2f627ec5",
   "metadata": {},
   "outputs": [],
   "source": []
  }
 ],
 "metadata": {
  "kernelspec": {
   "display_name": "Python 3 (ipykernel)",
   "language": "python",
   "name": "python3"
  },
  "language_info": {
   "codemirror_mode": {
    "name": "ipython",
    "version": 3
   },
   "file_extension": ".py",
   "mimetype": "text/x-python",
   "name": "python",
   "nbconvert_exporter": "python",
   "pygments_lexer": "ipython3",
   "version": "3.7.12"
  }
 },
 "nbformat": 4,
 "nbformat_minor": 5
}
