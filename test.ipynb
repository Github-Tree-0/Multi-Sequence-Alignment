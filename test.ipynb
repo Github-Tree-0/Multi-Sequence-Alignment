{
 "cells": [
  {
   "cell_type": "markdown",
   "metadata": {},
   "source": [
    "### First import the functions you defined in your file. It should ends with '.py' and contains no spaces. So 'Algorithm finished' is not correct. Suppose your filename is 'algorithm.py' (You can change it). The below cell should run successfully"
   ]
  },
  {
   "cell_type": "markdown",
   "metadata": {},
   "source": [
    "### Also, '!pip install' is wrong in '.py' files. It only works in '.ipynb' files. Just discard them"
   ]
  },
  {
   "cell_type": "code",
   "execution_count": 1,
   "metadata": {},
   "outputs": [],
   "source": [
    "# Uncomment the following line and run\n",
    "\n",
    "# from ClustalW import algorithm"
   ]
  },
  {
   "cell_type": "markdown",
   "metadata": {},
   "source": [
    "### Below is my example"
   ]
  },
  {
   "cell_type": "code",
   "execution_count": 2,
   "metadata": {},
   "outputs": [],
   "source": [
    "from Feng_Doolittle import algorithm\n",
    "import numpy as np"
   ]
  },
  {
   "cell_type": "markdown",
   "metadata": {},
   "source": [
    "### This is the test case sequences"
   ]
  },
  {
   "cell_type": "code",
   "execution_count": 3,
   "metadata": {},
   "outputs": [],
   "source": [
    "a = 'GARFIELDTHELASTFATCAT'\n",
    "b = 'GARFIELDTHEFASTCAT'\n",
    "c = 'GARFIELDTHEVERYFASTCAT'\n",
    "d = 'THEFATCAT'"
   ]
  },
  {
   "cell_type": "markdown",
   "metadata": {},
   "source": [
    "### Do anything you want, like calculating arguments needs to pass to the functions, ect.\n",
    "### But you should not define any functions or classes in this notebook"
   ]
  },
  {
   "cell_type": "code",
   "execution_count": 4,
   "metadata": {},
   "outputs": [],
   "source": [
    "# Here's an example of mine, I calculate dictionary and score matrix here, and pass them to my class object\n",
    "# Note that, the dictionary should contain all the characters in the sequences, not restricted to ['A', 'C', 'G', 'T']\n",
    "# You can refer to my code below and in 'algorithm.py' to see how I use the dictionary and score matrix\n",
    "\n",
    "dictionary = set(a+b+c+d+'-'+'#')\n",
    "len_dict = len(dictionary)\n",
    "\n",
    "score_mat = np.zeros((len_dict, len_dict))\n",
    "for i in range(len_dict):\n",
    "    for j in range(len_dict):\n",
    "        if i == j:\n",
    "            score_mat[i, j] = 1\n",
    "        else:\n",
    "            score_mat[i, j] = -1\n",
    "\n",
    "msa = algorithm.MSA(''.join(dictionary), score_mat)"
   ]
  },
  {
   "cell_type": "markdown",
   "metadata": {},
   "source": [
    "### After preparation, run the test case. Here I print my output. I use '#' for gaps, you can use other symbols. But your code should output the aligned sequences."
   ]
  },
  {
   "cell_type": "code",
   "execution_count": 5,
   "metadata": {},
   "outputs": [
    {
     "name": "stdout",
     "output_type": "stream",
     "text": [
      "########THE####FA#TCAT\n",
      "GARFIELDTHELASTFA#TCAT\n",
      "GARFIELDTHE####FASTCAT\n",
      "GARFIELDTHEVERYFASTCAT\n"
     ]
    }
   ],
   "source": [
    "alignment = msa.compute_msa([a, b, c, d])\n",
    "for align in alignment:\n",
    "    print(align)"
   ]
  },
  {
   "cell_type": "code",
   "execution_count": 6,
   "metadata": {},
   "outputs": [],
   "source": [
    "# Suppose your function is also called compute_msa (change it to any name you like)\n",
    "# Note that if you define a function in your file 'algorithm.py', you should run your function like this: algorithm.compute_msa([a, b, c, d])\n",
    "# In the above code, I use msa.compute_msa([a, b, c, d]) because I define a class MSA in my file 'algorithm.py', and the function compute_msa is a method of the class MSA.\n",
    "# It's better if you also define a class in your file, so that we can use the same way to run our code. It's totally fine if you don't\n",
    "# Uncomment the following lines, it should run without error and output the expected results\n",
    "\n",
    "# alignment = algorithm.compute_msa([a, b, c, d], args...)\n",
    "# for align in alignment:\n",
    "#     print(align)\n",
    "\n",
    "# args... are the parameters you need to pass to your function, if you have any."
   ]
  },
  {
   "cell_type": "markdown",
   "metadata": {},
   "source": [
    "### At last, please make sure after uncommenting all the code lines, and restarting the kernel, all the cells can still successfully output"
   ]
  }
 ],
 "metadata": {
  "kernelspec": {
   "display_name": "daily",
   "language": "python",
   "name": "python3"
  },
  "language_info": {
   "codemirror_mode": {
    "name": "ipython",
    "version": 3
   },
   "file_extension": ".py",
   "mimetype": "text/x-python",
   "name": "python",
   "nbconvert_exporter": "python",
   "pygments_lexer": "ipython3",
   "version": "3.11.5"
  }
 },
 "nbformat": 4,
 "nbformat_minor": 2
}
