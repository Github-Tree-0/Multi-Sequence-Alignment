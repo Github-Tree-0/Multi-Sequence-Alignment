{
 "cells": [
  {
   "cell_type": "code",
   "execution_count": 1,
   "metadata": {},
   "outputs": [],
   "source": [
    "from algorithm import *"
   ]
  },
  {
   "cell_type": "code",
   "execution_count": 2,
   "metadata": {},
   "outputs": [],
   "source": [
    "a = 'GARFIELD_THE_LAST_FAT_CAT'\n",
    "b = 'GARFIELD_THE_FAST_CAT'\n",
    "c = 'GARFIELD_THE_VERY_FAST_CAT'\n",
    "d = 'THE_FAT_CAT'\n",
    "\n",
    "dictionary = set(a+b+c+d+'-'+'#')\n",
    "len_dict = len(dictionary)\n",
    "\n",
    "score_mat = np.zeros((len_dict, len_dict))\n",
    "for i in range(len_dict):\n",
    "    for j in range(len_dict):\n",
    "        if i == j:\n",
    "            score_mat[i, j] = 1\n",
    "        else:\n",
    "            score_mat[i, j] = -1\n",
    "# gap_ind = np.where(np.array(list(dictionary)) == '-')[0]\n",
    "# score_mat[gap_ind, gap_ind] = -1 # ?\n",
    "msa = MSA(''.join(dictionary), score_mat)"
   ]
  },
  {
   "cell_type": "code",
   "execution_count": 3,
   "metadata": {},
   "outputs": [
    {
     "name": "stdout",
     "output_type": "stream",
     "text": [
      "[[0.         0.20189021 0.22643033 0.73678678]\n",
      " [0.20189021 0.         0.17913069 0.57214205]\n",
      " [0.22643033 0.17913069 0.         0.76200984]\n",
      " [0.73678678 0.57214205 0.76200984 0.        ]]\n"
     ]
    }
   ],
   "source": [
    "D = msa.compute_D([a, b, c, d])\n",
    "print(D)"
   ]
  },
  {
   "cell_type": "code",
   "execution_count": 4,
   "metadata": {},
   "outputs": [
    {
     "data": {
      "text/plain": [
       "[3, [0, [1, 2]]]"
      ]
     },
     "execution_count": 4,
     "metadata": {},
     "output_type": "execute_result"
    }
   ],
   "source": [
    "msa.build_guide_tree(D)"
   ]
  },
  {
   "cell_type": "code",
   "execution_count": 5,
   "metadata": {},
   "outputs": [
    {
     "name": "stdout",
     "output_type": "stream",
     "text": [
      "#########THE_#####FA#T_CAT\n",
      "GARFIELD_THE_LAST_FA#T_CAT\n",
      "GARFIELD_THE_#####FAST_CAT\n",
      "GARFIELD_THE_VERY_FAST_CAT\n"
     ]
    }
   ],
   "source": [
    "alignment = msa.compute_msa([a, b, c, d])\n",
    "for align in alignment:\n",
    "    print(align)"
   ]
  },
  {
   "cell_type": "code",
   "execution_count": null,
   "metadata": {},
   "outputs": [],
   "source": []
  }
 ],
 "metadata": {
  "kernelspec": {
   "display_name": "daily",
   "language": "python",
   "name": "python3"
  },
  "language_info": {
   "codemirror_mode": {
    "name": "ipython",
    "version": 3
   },
   "file_extension": ".py",
   "mimetype": "text/x-python",
   "name": "python",
   "nbconvert_exporter": "python",
   "pygments_lexer": "ipython3",
   "version": "3.11.5"
  }
 },
 "nbformat": 4,
 "nbformat_minor": 2
}
